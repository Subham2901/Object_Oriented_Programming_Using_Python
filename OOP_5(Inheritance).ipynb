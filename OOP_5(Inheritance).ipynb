{
 "cells": [
  {
   "cell_type": "markdown",
   "metadata": {},
   "source": [
    "## Inheritance\n",
    "###### classes in Python can be extended,creating new classes which retain characteristics of the base class.\n",
    "###### This process is known as inheritance.\n",
    "###### It involves a superclass and a subclass.\n",
    "###### The subclass inherits the members of the superclass, on top of which it can add its own members."
   ]
  },
  {
   "cell_type": "markdown",
   "metadata": {},
   "source": [
    "### The parent class or the super class: named polygon"
   ]
  },
  {
   "cell_type": "code",
   "execution_count": 1,
   "metadata": {},
   "outputs": [],
   "source": [
    "class polygon():\n",
    "    __height=None \n",
    "    __width=None\n",
    "    def set__h(self):\n",
    "        __height=float(input(\"ENter the height :  \"))\n",
    "        return __height   \n",
    "    def set__w(self):\n",
    "        __width=float(input(\"Enter the width : \"))\n",
    "        return __width\n",
    "    \n",
    "    def set__side(self):\n",
    "        __side =float(input(\"Enter the side: \"))\n",
    "        return __side\n",
    "    \n",
    "    \n",
    "                     "
   ]
  },
  {
   "cell_type": "markdown",
   "metadata": {},
   "source": [
    "### THE sub class or the child class inherriting the properties of the parent class polygon()"
   ]
  },
  {
   "cell_type": "code",
   "execution_count": 2,
   "metadata": {},
   "outputs": [],
   "source": [
    "class triangle(polygon): # this is how the inheritance is performed(by passing the super class as an argument of the sub class)\n",
    "    def area1(self):\n",
    "        h=self.set__h()\n",
    "        w=self.set__w()\n",
    "        print(\"Area of the  triangle is:\",h*w/2)        \n",
    "        \n",
    "        "
   ]
  },
  {
   "cell_type": "code",
   "execution_count": 3,
   "metadata": {},
   "outputs": [
    {
     "name": "stdout",
     "output_type": "stream",
     "text": [
      "ENter the height :  5\n",
      "Enter the width : 6\n",
      "Area of the  triangle is: 15.0\n"
     ]
    }
   ],
   "source": [
    "a=triangle() # object creation\n",
    "a.area1()"
   ]
  },
  {
   "cell_type": "markdown",
   "metadata": {},
   "source": [
    "### THE sub class or the child class inherriting the properties of the parent class polygon()"
   ]
  },
  {
   "cell_type": "code",
   "execution_count": 4,
   "metadata": {},
   "outputs": [],
   "source": [
    "class rect(polygon):\n",
    "    def area(self):\n",
    "        h=self.set__h()\n",
    "        w=self.set__w()\n",
    "        print(\"The area of the rectangle is: \",h*w)"
   ]
  },
  {
   "cell_type": "code",
   "execution_count": 5,
   "metadata": {},
   "outputs": [
    {
     "name": "stdout",
     "output_type": "stream",
     "text": [
      "ENter the height :  4\n",
      "Enter the width : 3\n",
      "The area of the rectangle is:  12.0\n"
     ]
    }
   ],
   "source": [
    "r=rect()\n",
    "r.area()"
   ]
  },
  {
   "cell_type": "markdown",
   "metadata": {},
   "source": [
    "### THE sub class or the child class inherriting the properties of the parent class polygon()"
   ]
  },
  {
   "cell_type": "code",
   "execution_count": 6,
   "metadata": {},
   "outputs": [],
   "source": [
    "class square(polygon):\n",
    "    def area(self):\n",
    "        s=self.set__side()\n",
    "        print(\"the area of the square is :\", s**2)\n",
    "        \n",
    "        "
   ]
  },
  {
   "cell_type": "code",
   "execution_count": 7,
   "metadata": {},
   "outputs": [
    {
     "name": "stdout",
     "output_type": "stream",
     "text": [
      "Enter the side: 9\n",
      "the area of the square is : 81.0\n"
     ]
    }
   ],
   "source": [
    "s=square()\n",
    "s.area()\n"
   ]
  },
  {
   "cell_type": "markdown",
   "metadata": {},
   "source": [
    "###### If we summarise what we have seen in the code we can say that only the members of the parent class that are declared as public  are inheritted in the sub class or the child class , other than that all the privately declared members or methods are need to be acccesed using the accessor and the muttator methods "
   ]
  },
  {
   "cell_type": "code",
   "execution_count": null,
   "metadata": {},
   "outputs": [],
   "source": [
    "\n"
   ]
  }
 ],
 "metadata": {
  "kernelspec": {
   "display_name": "Python 3",
   "language": "python",
   "name": "python3"
  },
  "language_info": {
   "codemirror_mode": {
    "name": "ipython",
    "version": 3
   },
   "file_extension": ".py",
   "mimetype": "text/x-python",
   "name": "python",
   "nbconvert_exporter": "python",
   "pygments_lexer": "ipython3",
   "version": "3.7.1"
  }
 },
 "nbformat": 4,
 "nbformat_minor": 2
}
