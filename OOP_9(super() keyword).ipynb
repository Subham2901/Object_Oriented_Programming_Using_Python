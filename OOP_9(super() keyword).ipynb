{
 "cells": [
  {
   "cell_type": "markdown",
   "metadata": {},
   "source": [
    "### super() keyword-\n",
    "It's an built-in function that returns a proxy object of the super class. Wecan use this function to access the _init_( The method called first when the object is created of the class) method of the parent/super class from the child/sub class."
   ]
  },
  {
   "cell_type": "code",
   "execution_count": 12,
   "metadata": {},
   "outputs": [],
   "source": [
    "class parent():\n",
    "    def __init__(self):\n",
    "        print(\"I am  the parent class\")\n",
    "    "
   ]
  },
  {
   "cell_type": "code",
   "execution_count": 13,
   "metadata": {},
   "outputs": [],
   "source": [
    "class child(parent):# inheriting the properties of the parent class.\n",
    "    def __init__(self):\n",
    "        print(\"I am the child \")\n",
    "        super().__init__() # calling the __init__ method of the parent class"
   ]
  },
  {
   "cell_type": "code",
   "execution_count": 14,
   "metadata": {},
   "outputs": [
    {
     "name": "stdout",
     "output_type": "stream",
     "text": [
      "I am the child \n",
      "I am  the parent class\n"
     ]
    }
   ],
   "source": [
    "c=child()\n"
   ]
  },
  {
   "cell_type": "markdown",
   "metadata": {},
   "source": [
    "In case of __multiple inheritance__  super() keyword is not valid as there are more than one parent class, thus in such case we have to call the _init_ function manually using the class name."
   ]
  },
  {
   "cell_type": "code",
   "execution_count": 15,
   "metadata": {},
   "outputs": [],
   "source": [
    "class parent1():\n",
    "    def __init__(self):\n",
    "        print(\" I am the parent1\")\n",
    "    "
   ]
  },
  {
   "cell_type": "code",
   "execution_count": 16,
   "metadata": {},
   "outputs": [],
   "source": [
    "class parent2():\n",
    "    def __init__(self):\n",
    "        print(\"I am  the second parent class \")\n",
    "    "
   ]
  },
  {
   "cell_type": "code",
   "execution_count": 29,
   "metadata": {},
   "outputs": [],
   "source": [
    "class Child(parent1,parent2):\n",
    "    def __init__(self):\n",
    "        print(\"I am the child \")\n",
    "        super().__init__() # will only call the first parent class from which the child class inherits\n",
    "        parent2.__init__(self)#Thus by this way we can call the parent classes other than the first inherrited class."
   ]
  },
  {
   "cell_type": "code",
   "execution_count": 30,
   "metadata": {},
   "outputs": [
    {
     "name": "stdout",
     "output_type": "stream",
     "text": [
      "I am the child \n",
      " I am the parent1\n",
      "I am  the second class :\n"
     ]
    }
   ],
   "source": [
    "c=Child()#Thus,we can see that super() keyword only calls the first class that it inheritted therefore to call the other parent classes we have to use the class name along with the funtion name and parameters.  "
   ]
  },
  {
   "cell_type": "markdown",
   "metadata": {},
   "source": []
  }
 ],
 "metadata": {
  "kernelspec": {
   "display_name": "Python 3",
   "language": "python",
   "name": "python3"
  },
  "language_info": {
   "codemirror_mode": {
    "name": "ipython",
    "version": 3
   },
   "file_extension": ".py",
   "mimetype": "text/x-python",
   "name": "python",
   "nbconvert_exporter": "python",
   "pygments_lexer": "ipython3",
   "version": "3.7.1"
  }
 },
 "nbformat": 4,
 "nbformat_minor": 2
}
