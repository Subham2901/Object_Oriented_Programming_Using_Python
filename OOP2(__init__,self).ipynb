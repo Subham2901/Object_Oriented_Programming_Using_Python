{
 "cells": [
  {
   "cell_type": "markdown",
   "metadata": {},
   "source": [
    "### ____init____ function"
   ]
  },
  {
   "cell_type": "markdown",
   "metadata": {},
   "source": [
    "# ___init___\n",
    "(__init__) is a first method that is called when an object is created.__init__ behaves as a constructor but it is not a constructor.\n",
    "In case constructor,object is created when an contructor is called but in case of __init__ after creation of object \n",
    "the __init__ method is called"
   ]
  },
  {
   "cell_type": "markdown",
   "metadata": {},
   "source": [
    "### self keyword\n",
    "This keyword resemmbles of the this keyword of java or c++. This is used to indicate the current object.\n",
    "Here, self is used to initialise the attributes inside the init method"
   ]
  },
  {
   "cell_type": "code",
   "execution_count": 25,
   "metadata": {},
   "outputs": [
    {
     "name": "stdout",
     "output_type": "stream",
     "text": [
      "__init__  is called\n"
     ]
    },
    {
     "data": {
      "text/plain": [
       "'Thus we can notice the moment the object is created the __init__ method is called and the string\\n\"__init__ is called\" is printed '"
      ]
     },
     "execution_count": 25,
     "metadata": {},
     "output_type": "execute_result"
    }
   ],
   "source": [
    "class car:\n",
    "    def __init__(self): #It serves as a constructor for the class. Ussually it is used to initialised some attributes and functions.This is the first method which will becalled when we create an instance of the class.\n",
    "        print(\"__init__  is called\")\n",
    "ford=car()\n",
    "\"\"\"Thus we can notice the moment the object is created the __init__ method is called and the string\n",
    "\"__init__ is called\" is printed \"\"\"\n",
    "        "
   ]
  },
  {
   "cell_type": "markdown",
   "metadata": {},
   "source": [
    " ####  Now let us add few more arguments in the __init__ method except for the self argument"
   ]
  },
  {
   "cell_type": "code",
   "execution_count": 26,
   "metadata": {},
   "outputs": [
    {
     "name": "stdout",
     "output_type": "stream",
     "text": [
      "Speed = 210\n",
      "color = blue\n",
      "210\n",
      "blue\n",
      "100\n",
      "BLACK\n"
     ]
    }
   ],
   "source": [
    "class car1():\n",
    "    def __init__(self,speed,color):\n",
    "        self.speed=speed\n",
    "        self.color=color\n",
    "        print(\"Speed =\",speed)\n",
    "        print(\"color =\",color)\n",
    "        \n",
    "ford=car1(210,'blue') # object creation\n",
    "\"\"\"Thus we can see that  while creating the object we have to pass the arguments that we have used in \n",
    "the __init__ method as it calls the method the moment after the object is created \"\"\"\n",
    "print((ford.speed))\n",
    "print(ford.color)\n",
    "\"\"\"Now we can edit the values of the attributes too by using the objects \"\"\"\n",
    "ford.speed=100\n",
    "ford.color=\"BLACK\"\n",
    "print(ford.speed)# the new updated value of the speed attribute\n",
    "print(ford.color)"
   ]
  },
  {
   "cell_type": "markdown",
   "metadata": {},
   "source": [
    "#### Some more on init method and the self keywords."
   ]
  },
  {
   "cell_type": "code",
   "execution_count": 29,
   "metadata": {},
   "outputs": [
    {
     "name": "stdout",
     "output_type": "stream",
     "text": [
      "__init__\n"
     ]
    }
   ],
   "source": [
    " class Hello:\n",
    "        def __init__(self):# we cannot create a __init__ method witout passing the self argument(but yes we can name the self argument as anything but there must be an argument)\n",
    "            print(\"__init__\")\n",
    "hello=Hello()"
   ]
  },
  {
   "cell_type": "markdown",
   "metadata": {},
   "source": [
    "##### Now let us see that can we use multiple __init__ method under one class"
   ]
  },
  {
   "cell_type": "code",
   "execution_count": 36,
   "metadata": {},
   "outputs": [
    {
     "ename": "TypeError",
     "evalue": "__init__() missing 1 required positional argument: 'name'",
     "output_type": "error",
     "traceback": [
      "\u001b[1;31m---------------------------------------------------------------------------\u001b[0m",
      "\u001b[1;31mTypeError\u001b[0m                                 Traceback (most recent call last)",
      "\u001b[1;32m<ipython-input-36-c010bea27f86>\u001b[0m in \u001b[0;36m<module>\u001b[1;34m\u001b[0m\n\u001b[0;32m      4\u001b[0m     \u001b[1;32mdef\u001b[0m \u001b[0m__init__\u001b[0m\u001b[1;33m(\u001b[0m\u001b[0mself\u001b[0m\u001b[1;33m,\u001b[0m\u001b[0mname\u001b[0m\u001b[1;33m)\u001b[0m\u001b[1;33m:\u001b[0m\u001b[1;33m\u001b[0m\u001b[1;33m\u001b[0m\u001b[0m\n\u001b[0;32m      5\u001b[0m         \u001b[0mprint\u001b[0m\u001b[1;33m(\u001b[0m\u001b[1;34m\"Subham\"\u001b[0m\u001b[1;33m)\u001b[0m\u001b[1;33m\u001b[0m\u001b[1;33m\u001b[0m\u001b[0m\n\u001b[1;32m----> 6\u001b[1;33m \u001b[0mhello\u001b[0m\u001b[1;33m=\u001b[0m\u001b[0mHello\u001b[0m\u001b[1;33m(\u001b[0m\u001b[1;33m)\u001b[0m\u001b[1;33m\u001b[0m\u001b[1;33m\u001b[0m\u001b[0m\n\u001b[0m\u001b[0;32m      7\u001b[0m \"\"\"Thus we cannot use multiple __init__ method in a single class,even if we do so then \n\u001b[0;32m      8\u001b[0m the last __init__ method will get considered and the rest of them will be overwritten.\"\"\"\n",
      "\u001b[1;31mTypeError\u001b[0m: __init__() missing 1 required positional argument: 'name'"
     ]
    }
   ],
   "source": [
    "class Hello:\n",
    "    def __init__(self):\n",
    "        pass\n",
    "    def __init__(self,name):\n",
    "        print(\"Subham\")\n",
    "hello=Hello()   \n",
    "\"\"\"Thus we cannot use multiple __init__ method in a single class,even if we do so then \n",
    "the last __init__ method will get considered and the rest of them will be overwritten.\"\"\"\n",
    "\n"
   ]
  },
  {
   "cell_type": "code",
   "execution_count": 41,
   "metadata": {},
   "outputs": [
    {
     "name": "stdout",
     "output_type": "stream",
     "text": [
      "20\n",
      "Subham\n"
     ]
    }
   ],
   "source": [
    "class car2():\n",
    "    def __init__(self,name):\n",
    "        self.name=name \n",
    "        self.age=20 # it's not  necesary to pass the value  from the argument to any attribute we can just set some default values too. \n",
    "  \n",
    "        \n",
    "ford=car2(\"Subham\")\n",
    "print(ford.age)# by this we can access the age attribute\n",
    "print(ford.name) #by this we can access the name attribute"
   ]
  },
  {
   "cell_type": "code",
   "execution_count": null,
   "metadata": {},
   "outputs": [],
   "source": []
  }
 ],
 "metadata": {
  "kernelspec": {
   "display_name": "Python 3",
   "language": "python",
   "name": "python3"
  },
  "language_info": {
   "codemirror_mode": {
    "name": "ipython",
    "version": 3
   },
   "file_extension": ".py",
   "mimetype": "text/x-python",
   "name": "python",
   "nbconvert_exporter": "python",
   "pygments_lexer": "ipython3",
   "version": "3.7.1"
  }
 },
 "nbformat": 4,
 "nbformat_minor": 2
}
