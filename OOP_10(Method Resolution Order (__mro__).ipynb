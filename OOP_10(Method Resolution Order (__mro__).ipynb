{
 "cells": [
  {
   "cell_type": "markdown",
   "metadata": {},
   "source": [
    "### Method Resolution Order( _ _mro_ _ )- \n",
    "This is a   funtion which returns the order in which the methods of the classes are called.\n",
    "There is a convention which the classes follow :\n",
    "1. The methods of the sub-classes will be invoked first.\n",
    "2. Then the methods of the parent classes .\n",
    "3. Then the objects will be invoked.\n",
    "4. In case of multiple inheritance,the subclass will be invoked first then the parent class from which the inheritance takes place first to the subclass, then the second and so on."
   ]
  },
  {
   "cell_type": "code",
   "execution_count": 12,
   "metadata": {},
   "outputs": [],
   "source": [
    "class parent:\n",
    "    def __init__(self):\n",
    "        print('parent1')\n",
    "        "
   ]
  },
  {
   "cell_type": "code",
   "execution_count": 13,
   "metadata": {},
   "outputs": [],
   "source": [
    "class child(parent):\n",
    "    def __init__(self):\n",
    "        print(\"child\")\n",
    "        super().__init__()\n",
    "        "
   ]
  },
  {
   "cell_type": "code",
   "execution_count": 18,
   "metadata": {},
   "outputs": [
    {
     "name": "stdout",
     "output_type": "stream",
     "text": [
      "child\n",
      "parent1\n",
      "(<class '__main__.child'>, <class '__main__.parent'>, <class 'object'>)\n"
     ]
    }
   ],
   "source": [
    "c=child()\n",
    "print(child.__mro__)# this displays the order in which the methods are invoked."
   ]
  },
  {
   "cell_type": "code",
   "execution_count": null,
   "metadata": {},
   "outputs": [],
   "source": []
  }
 ],
 "metadata": {
  "kernelspec": {
   "display_name": "Python 3",
   "language": "python",
   "name": "python3"
  },
  "language_info": {
   "codemirror_mode": {
    "name": "ipython",
    "version": 3
   },
   "file_extension": ".py",
   "mimetype": "text/x-python",
   "name": "python",
   "nbconvert_exporter": "python",
   "pygments_lexer": "ipython3",
   "version": "3.7.1"
  }
 },
 "nbformat": 4,
 "nbformat_minor": 2
}
