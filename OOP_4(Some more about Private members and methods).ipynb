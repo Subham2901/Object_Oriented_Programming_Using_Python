{
 "cells": [
  {
   "cell_type": "markdown",
   "metadata": {},
   "source": [
    "### Private members & Private Methods:\n",
    "A private member or a private method are the attributes or the methods which can only be accessed from inside the class where it is declared. From the outside of the class it cannot be \n",
    "manipulated.\n",
    "WE declare a private member or method by putting double underscores in front of the attribute or the method\n",
    "_Let us see an example to more clearly understand how to use private attribute and private methods in a class_"
   ]
  },
  {
   "cell_type": "code",
   "execution_count": 3,
   "metadata": {},
   "outputs": [],
   "source": [
    "class rect():\n",
    "    __h=None\n",
    "    __w=None\n",
    "    def set_h_and_w(self):\n",
    "        self.__h=float(input(\"Enter the height : \"))\n",
    "        self.__w=float(input(\"Enter the width : \"))\n",
    "    def __area(self):\n",
    "        return(self.__h*self.__w)\n",
    "    def disp(self):\n",
    "        print(\"The area of the rectangle is : \",self.__area())\n",
    "        \n",
    "    \n",
    "    "
   ]
  },
  {
   "cell_type": "code",
   "execution_count": 4,
   "metadata": {},
   "outputs": [
    {
     "name": "stdout",
     "output_type": "stream",
     "text": [
      "Enter the height : 22\n",
      "Enter the width : 56\n",
      "The area of the rectangle is :  1232.0\n"
     ]
    }
   ],
   "source": [
    "Area=rect() # object declaration\n",
    "Area.set_h_and_w()\n",
    "Area.disp()"
   ]
  },
  {
   "cell_type": "code",
   "execution_count": 6,
   "metadata": {},
   "outputs": [
    {
     "ename": "AttributeError",
     "evalue": "'rect' object has no attribute '__area'",
     "output_type": "error",
     "traceback": [
      "\u001b[1;31m---------------------------------------------------------------------------\u001b[0m",
      "\u001b[1;31mAttributeError\u001b[0m                            Traceback (most recent call last)",
      "\u001b[1;32m<ipython-input-6-54e907da3202>\u001b[0m in \u001b[0;36m<module>\u001b[1;34m\u001b[0m\n\u001b[1;32m----> 1\u001b[1;33m \u001b[0mArea\u001b[0m\u001b[1;33m.\u001b[0m\u001b[0m__area\u001b[0m\u001b[1;33m(\u001b[0m\u001b[1;33m)\u001b[0m\u001b[1;31m# as the method declared is private thus we cannot access it from the outside of the class\u001b[0m\u001b[1;33m\u001b[0m\u001b[1;33m\u001b[0m\u001b[0m\n\u001b[0m\u001b[0;32m      2\u001b[0m \u001b[1;33m\u001b[0m\u001b[0m\n",
      "\u001b[1;31mAttributeError\u001b[0m: 'rect' object has no attribute '__area'"
     ]
    }
   ],
   "source": [
    "Area.__area()# as the method declared is private thus we cannot access it from the outside of the class\n",
    "\n"
   ]
  },
  {
   "cell_type": "code",
   "execution_count": 9,
   "metadata": {},
   "outputs": [
    {
     "ename": "AttributeError",
     "evalue": "'rect' object has no attribute '__h'",
     "output_type": "error",
     "traceback": [
      "\u001b[1;31m---------------------------------------------------------------------------\u001b[0m",
      "\u001b[1;31mAttributeError\u001b[0m                            Traceback (most recent call last)",
      "\u001b[1;32m<ipython-input-9-f8263dbef794>\u001b[0m in \u001b[0;36m<module>\u001b[1;34m\u001b[0m\n\u001b[1;32m----> 1\u001b[1;33m \u001b[0mprint\u001b[0m\u001b[1;33m(\u001b[0m\u001b[0mArea\u001b[0m\u001b[1;33m.\u001b[0m\u001b[0m__h\u001b[0m\u001b[1;33m)\u001b[0m\u001b[1;31m# Similarly as __h is declared as private therefore we cannot access that too from the outside of the class\u001b[0m\u001b[1;33m\u001b[0m\u001b[1;33m\u001b[0m\u001b[0m\n\u001b[0m",
      "\u001b[1;31mAttributeError\u001b[0m: 'rect' object has no attribute '__h'"
     ]
    }
   ],
   "source": [
    "print(Area.__h)# Similarly as __h is declared as private therefore we cannot access that too from the outside of the class\n"
   ]
  },
  {
   "cell_type": "code",
   "execution_count": null,
   "metadata": {},
   "outputs": [],
   "source": []
  }
 ],
 "metadata": {
  "kernelspec": {
   "display_name": "Python 3",
   "language": "python",
   "name": "python3"
  },
  "language_info": {
   "codemirror_mode": {
    "name": "ipython",
    "version": 3
   },
   "file_extension": ".py",
   "mimetype": "text/x-python",
   "name": "python",
   "nbconvert_exporter": "python",
   "pygments_lexer": "ipython3",
   "version": "3.7.1"
  }
 },
 "nbformat": 4,
 "nbformat_minor": 2
}
