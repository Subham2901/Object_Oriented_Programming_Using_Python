{
 "cells": [
  {
   "cell_type": "markdown",
   "metadata": {},
   "source": [
    "\n",
    "## open()-\n",
    "It's an in-built function used to open a file.The open-function takes two parameters,file-name&mode.\n",
    "__open(\"filename.txt\",\"mode\")__"
   ]
  },
  {
   "cell_type": "markdown",
   "metadata": {},
   "source": [
    "1. __r - (Read)__ - Default value.Open a file just for reading. Throws an error if the file doesn't exist.\n",
    "2. __r+ - (read & write)__ - Opens a file for both reading and writing\n",
    "3. __w - (write)__- opens a file for writing, creates the file if the file doesn't exists.Overwrites the file ,if the file exists.\n",
    "4. __w+ -(write & read)__ opens a file for both writing & reading,creates the file if it doesn't exist.Overwrites the file ,if the file exists\n",
    "5. __a - (append)__ - Opens a file for appending\n",
    "6. __Binary- (Binary)__- Binary Mode(eg.images)"
   ]
  },
  {
   "cell_type": "markdown",
   "metadata": {},
   "source": [
    "The open-function,(open()) returns a file-object,known as file-handler.With this file-handler,we can work with files on which we are working on.\n",
    "##### __fh = open('demo.txt','w')__ - This will create a file if the file doesn't exists else overwrites it.\n",
    "##### __fh.write(\"Enter the string\")__-it's an inbuilt method used to write in the file.\n",
    "##### __fh.close()__- It closes the file & free all the system resources that are being used.\n",
    "## Always use the .close()  function,after handling the file."
   ]
  },
  {
   "cell_type": "markdown",
   "metadata": {},
   "source": [
    "__Lets create a file using open() function and write in it using write mode('w')__"
   ]
  },
  {
   "cell_type": "code",
   "execution_count": 11,
   "metadata": {},
   "outputs": [],
   "source": [
    "fh = open(\"first.txt\",'w') # the open() returns a file object which gets stored in the variable fh"
   ]
  },
  {
   "cell_type": "code",
   "execution_count": 12,
   "metadata": {},
   "outputs": [],
   "source": [
    "fh.write(\"This is my first text file created using python.\\n I am happy, that i can create file using python.\")\n",
    "#the above line writes in the file the text we want to insert\n",
    "fh.close()# closes the file"
   ]
  },
  {
   "cell_type": "markdown",
   "metadata": {},
   "source": [
    "__Now, lets see how we can use loops along with append mode to  write on a file__ "
   ]
  },
  {
   "cell_type": "code",
   "execution_count": 16,
   "metadata": {},
   "outputs": [],
   "source": [
    "fh=open(\"first.txt\",'a')# we are using append mode here.So that the file doesn't overwrites but it just adds the texts further.\n",
    "for i in range(10):\n",
    "    fh.write(\"\\n These texts are inserted using append mode and for loop %d\" % i)\n",
    "fh.close()"
   ]
  },
  {
   "cell_type": "markdown",
   "metadata": {},
   "source": [
    "__As we have seen using the close function is very nescessary, Thus we can use it with the help of try and finally blocks__"
   ]
  },
  {
   "cell_type": "code",
   "execution_count": 17,
   "metadata": {},
   "outputs": [],
   "source": [
    "try:\n",
    "    fh=open(\"second.txt\",\"w\")\n",
    "    fh.write(\"This is my second text file.\\n it is created using try and finally block\")\n",
    "finally:\n",
    "    fh.close()\n",
    "    "
   ]
  },
  {
   "cell_type": "markdown",
   "metadata": {},
   "source": [
    "__Now,we can use the same code in a short format with the help of \"with\" statement__ "
   ]
  },
  {
   "cell_type": "code",
   "execution_count": 21,
   "metadata": {},
   "outputs": [],
   "source": [
    "with open(\"second.txt\",\"a\") as fh:\n",
    "    fh.write(\" \\nNow this is done using 'with' statement\")\n",
    "    "
   ]
  },
  {
   "cell_type": "markdown",
   "metadata": {},
   "source": [
    "__with__ statement is used to handle files, this automatically closes the file once the file is handled."
   ]
  },
  {
   "cell_type": "code",
   "execution_count": null,
   "metadata": {},
   "outputs": [],
   "source": []
  }
 ],
 "metadata": {
  "kernelspec": {
   "display_name": "Python 3",
   "language": "python",
   "name": "python3"
  },
  "language_info": {
   "codemirror_mode": {
    "name": "ipython",
    "version": 3
   },
   "file_extension": ".py",
   "mimetype": "text/x-python",
   "name": "python",
   "nbconvert_exporter": "python",
   "pygments_lexer": "ipython3",
   "version": "3.7.1"
  }
 },
 "nbformat": 4,
 "nbformat_minor": 2
}
