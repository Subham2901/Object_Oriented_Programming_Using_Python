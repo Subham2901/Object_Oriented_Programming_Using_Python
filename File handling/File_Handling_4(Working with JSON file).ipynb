{
 "cells": [
  {
   "cell_type": "markdown",
   "metadata": {},
   "source": [
    "## JSON(JavaScript Object Notation)-\n",
    "__Javascript object notation(json)__ is an open standard file format,and data interchange format,that uses human readable text to store & transmit data objects consisting of attribute-value pair and array data types(or any other seriesable value) It is a vey common data format,with a diverse range of application,such as serving as replacement of XML in AJAX system."
   ]
  },
  {
   "cell_type": "markdown",
   "metadata": {},
   "source": [
    "### Let's create a file that can be converted into a json file:\n",
    "##### Except for sets, all the other collections as well as  data types can be converted using json.dumps()"
   ]
  },
  {
   "cell_type": "code",
   "execution_count": 2,
   "metadata": {},
   "outputs": [],
   "source": [
    "import json# we need to import the json module of python to work with json files"
   ]
  },
  {
   "cell_type": "code",
   "execution_count": 3,
   "metadata": {},
   "outputs": [
    {
     "name": "stdout",
     "output_type": "stream",
     "text": [
      "{\n",
      "          \"age\"colon22comma\n",
      "          \"marks\"colon[\n",
      "                    90comma\n",
      "                    50comma\n",
      "                    80comma\n",
      "                    40\n",
      "          ]comma\n",
      "          \"name \"colon\"Subham\"comma\n",
      "          \"object\"colon{\n",
      "                    \"color\"colon[\n",
      "                              \"red\"comma\n",
      "                              \"blue\"\n",
      "                    ]\n",
      "          }comma\n",
      "          \"pass\"colontrue\n",
      "}\n"
     ]
    }
   ],
   "source": [
    "a= {                          # Creating a dictionary that will be dumped or converted into an JSON value.\n",
    "    'name ':'Subham',\n",
    "    'age':22,\n",
    "    'marks':[90,50,80,40],\n",
    "    'pass':True,\n",
    "    'object':{'color':('red','blue')\n",
    "             }\n",
    "}\n",
    "print(json.dumps(a,indent=10,separators=('comma','colon'),sort_keys=True))\n",
    "#json.dumps takes the arguments and convert them into json values.\n",
    "# indent means no of spaces that we want to provide for every element of the json.\n",
    "#separators replaces the \",\" with \"comma\" and \":\" with \"Colon\".\n",
    "#sort_keys sorts the keys alphabetically\n"
   ]
  },
  {
   "cell_type": "markdown",
   "metadata": {},
   "source": [
    "### Now we will create a json file using the open() function:"
   ]
  },
  {
   "cell_type": "code",
   "execution_count": 4,
   "metadata": {},
   "outputs": [],
   "source": [
    "with open('demo.json','w') as fh:\n",
    "    fh.write(json.dumps(a,indent=4))\n",
    "\n",
    "\n"
   ]
  },
  {
   "cell_type": "markdown",
   "metadata": {},
   "source": [
    "## Now  we can notice that the read() function returns a string value:"
   ]
  },
  {
   "cell_type": "code",
   "execution_count": 5,
   "metadata": {},
   "outputs": [
    {
     "name": "stdout",
     "output_type": "stream",
     "text": [
      "<class 'str'>\n"
     ]
    }
   ],
   "source": [
    "with open('demo.json','r') as fh:\n",
    "    print(type(fh.read()))# thus as we can see that it returns a string value"
   ]
  },
  {
   "cell_type": "markdown",
   "metadata": {},
   "source": [
    "### Thus, to convert it to a json value again we have to use json.loads()\n"
   ]
  },
  {
   "cell_type": "code",
   "execution_count": 6,
   "metadata": {},
   "outputs": [
    {
     "name": "stdout",
     "output_type": "stream",
     "text": [
      "Subham\n"
     ]
    }
   ],
   "source": [
    "with open('demo.json','r') as fh:\n",
    "    json_str=fh.read()\n",
    "    json_val=json.loads(json_str)\n",
    "    print(json_val['name '])"
   ]
  },
  {
   "cell_type": "code",
   "execution_count": 7,
   "metadata": {},
   "outputs": [
    {
     "name": "stdout",
     "output_type": "stream",
     "text": [
      "<class 'dict'>\n"
     ]
    }
   ],
   "source": [
    "print(type(json_val))"
   ]
  },
  {
   "cell_type": "code",
   "execution_count": null,
   "metadata": {},
   "outputs": [],
   "source": []
  }
 ],
 "metadata": {
  "kernelspec": {
   "display_name": "Python 3",
   "language": "python",
   "name": "python3"
  },
  "language_info": {
   "codemirror_mode": {
    "name": "ipython",
    "version": 3
   },
   "file_extension": ".py",
   "mimetype": "text/x-python",
   "name": "python",
   "nbconvert_exporter": "python",
   "pygments_lexer": "ipython3",
   "version": "3.7.1"
  }
 },
 "nbformat": 4,
 "nbformat_minor": 2
}
