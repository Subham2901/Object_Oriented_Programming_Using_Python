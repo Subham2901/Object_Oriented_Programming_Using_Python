{
 "cells": [
  {
   "cell_type": "markdown",
   "metadata": {},
   "source": [
    "### Reading a File-\n",
    "We can read a file using the open() mode in the default mode or using the read mode.\n",
    "open(\"filename.txt\",\"r\")"
   ]
  },
  {
   "cell_type": "markdown",
   "metadata": {},
   "source": [
    "__Lets create a new file, which we will read__ "
   ]
  },
  {
   "cell_type": "code",
   "execution_count": 3,
   "metadata": {},
   "outputs": [],
   "source": [
    "with open(\"Third.txt\",\"w\") as fh:\n",
    "    for i in range(10):\n",
    "        fh.write(\"This is line no %d\\n\" % (i+1))"
   ]
  },
  {
   "cell_type": "code",
   "execution_count": 6,
   "metadata": {},
   "outputs": [
    {
     "name": "stdout",
     "output_type": "stream",
     "text": [
      "This is line no 1\n",
      "This is line no 2\n",
      "This is line no 3\n",
      "This is line no 4\n",
      "This is line no 5\n",
      "This is line no 6\n",
      "This is line no 7\n",
      "This is line no 8\n",
      "This is line no 9\n",
      "This is line no 10\n",
      "\n"
     ]
    }
   ],
   "source": [
    "with open(\"Third.txt\",\"r\") as fh:\n",
    "    print(fh.read()) #this is how we can read a line in python.\n",
    "    "
   ]
  },
  {
   "cell_type": "code",
   "execution_count": 10,
   "metadata": {},
   "outputs": [
    {
     "name": "stdout",
     "output_type": "stream",
     "text": [
      "This is line no 1\n",
      "\n"
     ]
    }
   ],
   "source": [
    "with open(\"Third.txt\")as fh: # we dont have to use the \"r\" mode,as this is the default mode of the open function.\n",
    "    print(fh.readline()) #This will read the first line of the text"
   ]
  },
  {
   "cell_type": "code",
   "execution_count": 12,
   "metadata": {},
   "outputs": [
    {
     "name": "stdout",
     "output_type": "stream",
     "text": [
      "This\n"
     ]
    }
   ],
   "source": [
    "with open(\"Third.txt\") as fh:\n",
    "    print(fh.read(4)) # This will read the no of characters which are mentioned in the brackets."
   ]
  },
  {
   "cell_type": "markdown",
   "metadata": {},
   "source": [
    "__Now  in the below code, we can see that, fh.readline() displays the line after the word that is displayed in the above line, this happens because the file objects sets a pointer after the last read character and the code starts its reading afer that pointer only."
   ]
  },
  {
   "cell_type": "code",
   "execution_count": 19,
   "metadata": {},
   "outputs": [
    {
     "name": "stdout",
     "output_type": "stream",
     "text": [
      "This\n",
      " is line no 1\n",
      "\n",
      "This is line no 2\n",
      "\n"
     ]
    }
   ],
   "source": [
    "with open(\"Third.txt\")as fh: # we dont have to use the \"r\" mode,as this is the default mode of the open function.\n",
    "    print(fh.read(4)) # This will read the no of characters which are mentioned in the brackets.\n",
    "    print(fh.readline()) #This will read the first line of the text\n",
    "    print(fh.readline())\n",
    "   \n",
    "    "
   ]
  },
  {
   "cell_type": "markdown",
   "metadata": {},
   "source": [
    "__Now to display the whole content of the text file in form of a  list we can use the function .readlines().__"
   ]
  },
  {
   "cell_type": "code",
   "execution_count": 20,
   "metadata": {},
   "outputs": [
    {
     "name": "stdout",
     "output_type": "stream",
     "text": [
      "['This is line no 1\\n', 'This is line no 2\\n', 'This is line no 3\\n', 'This is line no 4\\n', 'This is line no 5\\n', 'This is line no 6\\n', 'This is line no 7\\n', 'This is line no 8\\n', 'This is line no 9\\n', 'This is line no 10\\n']\n"
     ]
    }
   ],
   "source": [
    "with open(\"Third.txt\")as fh: # we dont have to use the \"r\" mode,as this is the default mode of the open function.\n",
    "    print(fh.readlines())"
   ]
  },
  {
   "cell_type": "markdown",
   "metadata": {},
   "source": [
    "__Now as we know,.readlines(), creates a list of the content in the text file or we can say it stores each lines of the .txt file into separate indexes in a list__"
   ]
  },
  {
   "cell_type": "code",
   "execution_count": 22,
   "metadata": {},
   "outputs": [
    {
     "name": "stdout",
     "output_type": "stream",
     "text": [
      "This is line no 6\n",
      "\n"
     ]
    }
   ],
   "source": [
    "with open(\"Third.txt\") as fh :\n",
    "    print(fh.readlines() [5])# thus by providing the index nos., we can print the line we want to display"
   ]
  },
  {
   "cell_type": "code",
   "execution_count": null,
   "metadata": {},
   "outputs": [],
   "source": []
  }
 ],
 "metadata": {
  "kernelspec": {
   "display_name": "Python 3",
   "language": "python",
   "name": "python3"
  },
  "language_info": {
   "codemirror_mode": {
    "name": "ipython",
    "version": 3
   },
   "file_extension": ".py",
   "mimetype": "text/x-python",
   "name": "python",
   "nbconvert_exporter": "python",
   "pygments_lexer": "ipython3",
   "version": "3.7.1"
  }
 },
 "nbformat": 4,
 "nbformat_minor": 2
}
