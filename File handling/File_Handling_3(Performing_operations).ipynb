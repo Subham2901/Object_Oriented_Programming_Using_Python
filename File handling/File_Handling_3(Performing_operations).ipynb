{
 "cells": [
  {
   "cell_type": "markdown",
   "metadata": {},
   "source": [
    "#### performing Operations on a text file:\n",
    "__Performing operations on a text file means, \n",
    "1. counting the total no of characters in the text file.\n",
    "2. Couting the total no of words in a text file and so on,\n",
    "__lets see few of them__"
   ]
  },
  {
   "cell_type": "code",
   "execution_count": 4,
   "metadata": {},
   "outputs": [],
   "source": [
    "with open(\"fourth.txt\",\"w\") as fh:# a text file is created and some text is inserted\n",
    "        for i in range(10):\n",
    "            fh.write(\"This is my fourth text file and this is line no %d\\n\" % i)\n",
    "            "
   ]
  },
  {
   "cell_type": "code",
   "execution_count": 6,
   "metadata": {},
   "outputs": [
    {
     "name": "stdout",
     "output_type": "stream",
     "text": [
      "This is my fourth text file and this is line no 0\n",
      "This is my fourth text file and this is line no 1\n",
      "This is my fourth text file and this is line no 2\n",
      "This is my fourth text file and this is line no 3\n",
      "This is my fourth text file and this is line no 4\n",
      "This is my fourth text file and this is line no 5\n",
      "This is my fourth text file and this is line no 6\n",
      "This is my fourth text file and this is line no 7\n",
      "This is my fourth text file and this is line no 8\n",
      "This is my fourth text file and this is line no 9\n",
      "\n"
     ]
    },
    {
     "data": {
      "text/plain": [
       "'The text in the text bo is as follow'"
      ]
     },
     "execution_count": 6,
     "metadata": {},
     "output_type": "execute_result"
    }
   ],
   "source": [
    "with open(\"fourth.txt\") as fh:\n",
    "    print(fh.read())\n",
    "\"\"\"The text in the text bo is as follow\"\"\""
   ]
  },
  {
   "cell_type": "code",
   "execution_count": 8,
   "metadata": {},
   "outputs": [
    {
     "name": "stdout",
     "output_type": "stream",
     "text": [
      "50\n",
      "50\n",
      "50\n",
      "50\n",
      "50\n",
      "50\n",
      "50\n",
      "50\n",
      "50\n",
      "50\n"
     ]
    }
   ],
   "source": [
    "with open(\"fourth.txt\") as fh:\n",
    "    for line in fh:\n",
    "        print(len(line)) # this prints the no of characters in each lines"
   ]
  },
  {
   "cell_type": "code",
   "execution_count": 10,
   "metadata": {},
   "outputs": [
    {
     "name": "stdout",
     "output_type": "stream",
     "text": [
      "6\n",
      "6\n",
      "6\n",
      "6\n",
      "6\n",
      "6\n",
      "6\n",
      "6\n",
      "6\n",
      "6\n"
     ]
    }
   ],
   "source": [
    "with open(\"fourth.txt\") as fh:\n",
    "    for line in fh:\n",
    "        print(line.count(\"i\"))# this shows no of \"i\" in each line of the text"
   ]
  },
  {
   "cell_type": "code",
   "execution_count": 12,
   "metadata": {},
   "outputs": [
    {
     "name": "stdout",
     "output_type": "stream",
     "text": [
      "['This', 'is', 'my', 'fourth', 'text', 'file', 'and', 'this', 'is', 'line', 'no', '0\\n']\n",
      "['This', 'is', 'my', 'fourth', 'text', 'file', 'and', 'this', 'is', 'line', 'no', '1\\n']\n",
      "['This', 'is', 'my', 'fourth', 'text', 'file', 'and', 'this', 'is', 'line', 'no', '2\\n']\n",
      "['This', 'is', 'my', 'fourth', 'text', 'file', 'and', 'this', 'is', 'line', 'no', '3\\n']\n",
      "['This', 'is', 'my', 'fourth', 'text', 'file', 'and', 'this', 'is', 'line', 'no', '4\\n']\n",
      "['This', 'is', 'my', 'fourth', 'text', 'file', 'and', 'this', 'is', 'line', 'no', '5\\n']\n",
      "['This', 'is', 'my', 'fourth', 'text', 'file', 'and', 'this', 'is', 'line', 'no', '6\\n']\n",
      "['This', 'is', 'my', 'fourth', 'text', 'file', 'and', 'this', 'is', 'line', 'no', '7\\n']\n",
      "['This', 'is', 'my', 'fourth', 'text', 'file', 'and', 'this', 'is', 'line', 'no', '8\\n']\n",
      "['This', 'is', 'my', 'fourth', 'text', 'file', 'and', 'this', 'is', 'line', 'no', '9\\n']\n"
     ]
    }
   ],
   "source": [
    "with open(\"fourth.txt\") as fh:\n",
    "    for line in fh:\n",
    "        print(line.split(\" \")) # splits each string on the basis of space"
   ]
  },
  {
   "cell_type": "code",
   "execution_count": 14,
   "metadata": {},
   "outputs": [
    {
     "name": "stdout",
     "output_type": "stream",
     "text": [
      "12\n",
      "12\n",
      "12\n",
      "12\n",
      "12\n",
      "12\n",
      "12\n",
      "12\n",
      "12\n",
      "12\n"
     ]
    }
   ],
   "source": [
    "with open(\"fourth.txt\") as fh:\n",
    "    for line in fh:\n",
    "        print(len(line.split(\" \")))# gives the no of words in each line"
   ]
  },
  {
   "cell_type": "code",
   "execution_count": null,
   "metadata": {},
   "outputs": [],
   "source": [
    "\n",
    "        \n",
    "        "
   ]
  },
  {
   "cell_type": "code",
   "execution_count": null,
   "metadata": {},
   "outputs": [],
   "source": []
  },
  {
   "cell_type": "code",
   "execution_count": null,
   "metadata": {},
   "outputs": [],
   "source": []
  }
 ],
 "metadata": {
  "kernelspec": {
   "display_name": "Python 3",
   "language": "python",
   "name": "python3"
  },
  "language_info": {
   "codemirror_mode": {
    "name": "ipython",
    "version": 3
   },
   "file_extension": ".py",
   "mimetype": "text/x-python",
   "name": "python",
   "nbconvert_exporter": "python",
   "pygments_lexer": "ipython3",
   "version": "3.7.1"
  }
 },
 "nbformat": 4,
 "nbformat_minor": 2
}
