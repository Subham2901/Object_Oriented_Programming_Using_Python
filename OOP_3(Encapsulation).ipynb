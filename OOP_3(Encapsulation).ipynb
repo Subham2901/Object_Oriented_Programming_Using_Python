{
 "cells": [
  {
   "cell_type": "markdown",
   "metadata": {},
   "source": [
    "### Encapsulation\n",
    "Encapsulation is one of the most important principles in OOP.Wrapping up of data into a class is called data encapsulation. Data hiding means preventing the access of our data to the users .\n",
    "I.E privatise the attributes of our program."
   ]
  },
  {
   "cell_type": "code",
   "execution_count": 16,
   "metadata": {},
   "outputs": [
    {
     "name": "stdout",
     "output_type": "stream",
     "text": [
      "300\n",
      "200\n"
     ]
    },
    {
     "data": {
      "text/plain": [
       "'Thus we can clearly see that the data inside the class can easily be manipulated without any dificulty,\\nThus to prevent this from happening we need to make our attribute private such that no one can access it'"
      ]
     },
     "execution_count": 16,
     "metadata": {},
     "output_type": "execute_result"
    }
   ],
   "source": [
    "class car:\n",
    "    def __init__(self,speed,color):\n",
    "        self.speed=speed\n",
    "        self.color=color\n",
    "ford=car(200,'red')\n",
    "honda=car(250,'blue')\n",
    "audi=car(300,'black')\n",
    "\n",
    "\n",
    "ford.speed=300\n",
    "\n",
    "print(ford.speed) \n",
    "ford.speed=200\n",
    "print(ford.speed)\n",
    "\"\"\"Thus we can clearly see that the data inside the class can easily be manipulated without any dificulty,\n",
    "Thus to prevent this from happening we need to make our attribute private such that no one can access it\"\"\""
   ]
  },
  {
   "cell_type": "markdown",
   "metadata": {},
   "source": [
    "### Data Hiding\n",
    " here in python we dont have keywords private, public , protected instead we have conventions that serve the same purpose"
   ]
  },
  {
   "cell_type": "code",
   "execution_count": 17,
   "metadata": {},
   "outputs": [],
   "source": [
    "class car():\n",
    "    def __init__(self,speed,color):\n",
    "        self.__speed=speed\n",
    "        self.color=color\n",
    "        self._manu=1999\n",
    "        "
   ]
  },
  {
   "cell_type": "code",
   "execution_count": 18,
   "metadata": {},
   "outputs": [
    {
     "name": "stdout",
     "output_type": "stream",
     "text": [
      "blue\n",
      "1999\n"
     ]
    },
    {
     "ename": "AttributeError",
     "evalue": "'car' object has no attribute '__speed'",
     "output_type": "error",
     "traceback": [
      "\u001b[1;31m---------------------------------------------------------------------------\u001b[0m",
      "\u001b[1;31mAttributeError\u001b[0m                            Traceback (most recent call last)",
      "\u001b[1;32m<ipython-input-18-b91086e5a5ab>\u001b[0m in \u001b[0;36m<module>\u001b[1;34m\u001b[0m\n\u001b[0;32m      5\u001b[0m \u001b[0mprint\u001b[0m\u001b[1;33m(\u001b[0m\u001b[0mhonda\u001b[0m\u001b[1;33m.\u001b[0m\u001b[0m_manu\u001b[0m\u001b[1;33m)\u001b[0m\u001b[1;31m# this is just a convention but this can also be very easily accesible from outside of the class just by using the object of the class\u001b[0m\u001b[1;33m\u001b[0m\u001b[1;33m\u001b[0m\u001b[0m\n\u001b[0;32m      6\u001b[0m \u001b[1;33m\u001b[0m\u001b[0m\n\u001b[1;32m----> 7\u001b[1;33m \u001b[0mprint\u001b[0m\u001b[1;33m(\u001b[0m\u001b[0mhonda\u001b[0m\u001b[1;33m.\u001b[0m\u001b[0m__speed\u001b[0m\u001b[1;33m)\u001b[0m\u001b[1;31m# Now when we use double underscores(__) along with the attribute name then by the convention it acts as private data type which cannot be accessed from outside the class.\u001b[0m\u001b[1;33m\u001b[0m\u001b[1;33m\u001b[0m\u001b[0m\n\u001b[0m",
      "\u001b[1;31mAttributeError\u001b[0m: 'car' object has no attribute '__speed'"
     ]
    }
   ],
   "source": [
    "### now if we try to access these three attributed outside the class with the help of an object then we observe\n",
    "honda=car(200,\"blue\")\n",
    "\n",
    "print(honda.color)# this can easily accesible from outside the class.THus the data can be manupulated very easily\n",
    "print(honda._manu)# this is just a convention but this can also be very easily accesible from outside of the class just by using the object of the class\n",
    "\n",
    "print(honda.__speed)# Now when we use double underscores(__) along with the attribute name then by the convention it acts as private data type which cannot be accessed from outside the class.\n"
   ]
  },
  {
   "cell_type": "markdown",
   "metadata": {},
   "source": [
    "### Setter() and getter() methods\n",
    "Now to protect our data from manipulation we have privatised our data with the help of double unerscores(__). Now to give the access to the user to the private data we use two methods namely:\n",
    "1. Setter Method -\n",
    "i)IT is used to update the value of the private members.\n",
    "ii)it must have a parameter\n",
    "\n",
    "2. Getter metthod- IT is used to access the private members of the class from outside of the class."
   ]
  },
  {
   "cell_type": "code",
   "execution_count": 1,
   "metadata": {},
   "outputs": [],
   "source": [
    "class Rectangle():\n",
    "    def __init__(self, height,width):\n",
    "        self.__h=height\n",
    "        self.__width=width\n",
    "    def get__height(self):\n",
    "        return self.__h\n",
    "    def set_height(self,value):\n",
    "        self.__h=value\n",
    "    "
   ]
  },
  {
   "cell_type": "code",
   "execution_count": 2,
   "metadata": {},
   "outputs": [],
   "source": [
    "area=Rectangle(200,500)# the object of the class rectangle is created"
   ]
  },
  {
   "cell_type": "code",
   "execution_count": 47,
   "metadata": {},
   "outputs": [
    {
     "name": "stdout",
     "output_type": "stream",
     "text": [
      "200\n"
     ]
    }
   ],
   "source": [
    "# print(area.height)\n",
    "print(area.get__height())# Thus we can access the height of the private member by using getter method\n"
   ]
  },
  {
   "cell_type": "code",
   "execution_count": 49,
   "metadata": {},
   "outputs": [
    {
     "name": "stdout",
     "output_type": "stream",
     "text": [
      "400\n",
      "400\n"
     ]
    }
   ],
   "source": [
    "area.__height=400# this command doesnt show any errors but it doesn't alter the value  of the private data mmber\n",
    "print(area.get__height())\n",
    "\"\"\"THus  we can see even after updating the value of the height its still displaying the old value thus \n",
    "TO UPDATE THE VALUE IN REAL WE NEED TO USE SETTER METHODS\"\"\"\n",
    "area.set_height(400)# thus now we can change the value of the private members by using the setter method \n",
    "print(area.get__height())\n"
   ]
  },
  {
   "cell_type": "markdown",
   "metadata": {},
   "source": [
    "##### Thus to summarise we can say wrapping up of all the data into class is called data encapsulation.\n",
    "moreover, hiding or preventing our data from getting updated or accesed from outside of the class without the \n",
    "will of the creater is known as data hiding or data encapsulation.\n",
    "after declaring the private members , we need to access the data using a method called __getter__ method\n",
    "and we update our data by using __setter__ method"
   ]
  },
  {
   "cell_type": "markdown",
   "metadata": {},
   "source": [
    "#### WAP describing the data hiding/ data encapsulation . A program to find the area of a rectangle:"
   ]
  },
  {
   "cell_type": "code",
   "execution_count": 26,
   "metadata": {},
   "outputs": [],
   "source": [
    "class rect():\n",
    "    def __init__(self,height,width):\n",
    "        self.__h=height\n",
    "        self.__w=width\n",
    "    def get_h(self):\n",
    "        return self.__h\n",
    "    def get_w(self):\n",
    "        return self.__w\n",
    "    def set_h(self,value):\n",
    "        self.__h=value\n",
    "    def set_w(self,value1):\n",
    "        self.__w=value1\n",
    "    def area(self):\n",
    "        print(\"the area of the rectangle is = \",(self.__h*self.__w))\n",
    "\n",
    "        "
   ]
  },
  {
   "cell_type": "code",
   "execution_count": 27,
   "metadata": {},
   "outputs": [],
   "source": [
    "# Now we create the objects of the class\n",
    "rect1=rect(2.2,5)\n",
    "rect2=rect(2,3)\n"
   ]
  },
  {
   "cell_type": "code",
   "execution_count": 28,
   "metadata": {},
   "outputs": [
    {
     "name": "stdout",
     "output_type": "stream",
     "text": [
      "the area of the rectangle is =  11.0\n",
      "the area of the rectangle is =  6\n"
     ]
    }
   ],
   "source": [
    "# now we have called the method of the class from outside of the class\n",
    "rect1.area()\n",
    "\n",
    "\n",
    "rect2.area()"
   ]
  },
  {
   "cell_type": "code",
   "execution_count": 30,
   "metadata": {},
   "outputs": [
    {
     "name": "stdout",
     "output_type": "stream",
     "text": [
      "The height and width of the 1st rect is =  200  and  2 respectively\n",
      "The height and width of the 1st rect is =  200  and  200 respectively\n"
     ]
    },
    {
     "data": {
      "text/plain": [
       "'Thus we can see now the data is being updated to the desired data that we wanted by using the setter method'"
      ]
     },
     "execution_count": 30,
     "metadata": {},
     "output_type": "execute_result"
    }
   ],
   "source": [
    "# now we will manipulate the private members using getter and setter method:\n",
    "a=rect1.get_h()# By this way we can access the private data members of the class\n",
    "b=rect1.get_w()\n",
    "print(\"The height and width of the 1st rect is = \",a,\" and \",b,\"respectively\")\n",
    "# Now we will update the values of the private data member of the python class\n",
    "rect1.set_h(200)\n",
    "rect1.set_w(2)\n",
    "c=rect1.get_h()\n",
    "d=rect1.get_w()\n",
    "print(\"The height and width of the 1st rect is = \",c,\" and \",c,\"respectively\")\n",
    "\"\"\"Thus we can see now the data is being updated to the desired data that we wanted by using the setter method\"\"\""
   ]
  },
  {
   "cell_type": "code",
   "execution_count": null,
   "metadata": {},
   "outputs": [],
   "source": []
  }
 ],
 "metadata": {
  "kernelspec": {
   "display_name": "Python 3",
   "language": "python",
   "name": "python3"
  },
  "language_info": {
   "codemirror_mode": {
    "name": "ipython",
    "version": 3
   },
   "file_extension": ".py",
   "mimetype": "text/x-python",
   "name": "python",
   "nbconvert_exporter": "python",
   "pygments_lexer": "ipython3",
   "version": "3.7.1"
  }
 },
 "nbformat": 4,
 "nbformat_minor": 2
}
