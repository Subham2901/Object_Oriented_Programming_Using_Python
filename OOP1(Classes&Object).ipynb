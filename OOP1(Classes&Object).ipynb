{
 "cells": [
  {
   "cell_type": "markdown",
   "metadata": {},
   "source": [
    "### Classes & Objects:\n",
    "###### A class is a blueprint of the program which contains objects and methods.\n",
    "###### An Object is an instance of a class."
   ]
  },
  {
   "cell_type": "code",
   "execution_count": 9,
   "metadata": {},
   "outputs": [],
   "source": [
    "# Let us see an example of class named car."
   ]
  },
  {
   "cell_type": "code",
   "execution_count": 10,
   "metadata": {},
   "outputs": [
    {
     "name": "stdout",
     "output_type": "stream",
     "text": [
      "488\n",
      "Blue\n",
      "500\n",
      "black\n"
     ]
    }
   ],
   "source": [
    "class car:\n",
    "    pass ## used to create an empty class\n",
    "ford=car() # object creation\n",
    "honda=car()\n",
    "audi=car()\n",
    "\n",
    "\n",
    "ford.speed=488 # here in (.speed) speed is the attribute of the class car. when we use pass in a class we can create attributes on the fly with the objects.\n",
    "honda.speed=500\n",
    "audi.speed=400\n",
    "\n",
    "ford.color='Blue' #color is also an attribute to the class car\n",
    "honda.color='Red'\n",
    "audi.color=\"White\"\n",
    "\n",
    "print(ford.speed)\n",
    "print(ford.color)\n",
    "\n",
    "# changing the speed or color of the attribute of the class car is also possible by using the objects.\n",
    "ford.color='black'\n",
    "ford.speed=500\n",
    "\n",
    "# printing the new datas\n",
    "print(ford.speed)\n",
    "print(ford.color)\n",
    "\n"
   ]
  },
  {
   "cell_type": "code",
   "execution_count": 13,
   "metadata": {},
   "outputs": [],
   "source": [
    "#let us see another example of class named rectangle which calulates the area of the rectangle."
   ]
  },
  {
   "cell_type": "code",
   "execution_count": 12,
   "metadata": {},
   "outputs": [
    {
     "name": "stdout",
     "output_type": "stream",
     "text": [
      "800\n",
      "1500\n"
     ]
    }
   ],
   "source": [
    "class Rectangle:\n",
    "    pass\n",
    "rect1=Rectangle()\n",
    "rect2=Rectangle()\n",
    "rect1.height=20\n",
    "rect2.height=30\n",
    "\n",
    "rect1.width=40\n",
    "rect2.width=50\n",
    "\n",
    "print(rect1.height*rect1.width)\n",
    "print(rect2.height*rect2.width)\n"
   ]
  },
  {
   "cell_type": "code",
   "execution_count": null,
   "metadata": {},
   "outputs": [],
   "source": []
  }
 ],
 "metadata": {
  "kernelspec": {
   "display_name": "Python 3",
   "language": "python",
   "name": "python3"
  },
  "language_info": {
   "codemirror_mode": {
    "name": "ipython",
    "version": 3
   },
   "file_extension": ".py",
   "mimetype": "text/x-python",
   "name": "python",
   "nbconvert_exporter": "python",
   "pygments_lexer": "ipython3",
   "version": "3.7.1"
  }
 },
 "nbformat": 4,
 "nbformat_minor": 2
}
