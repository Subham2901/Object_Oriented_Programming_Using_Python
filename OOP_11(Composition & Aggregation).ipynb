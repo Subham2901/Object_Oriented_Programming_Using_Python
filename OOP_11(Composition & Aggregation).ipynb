{
 "cells": [
  {
   "cell_type": "markdown",
   "metadata": {},
   "source": [
    "### Composition-\n",
    "Composition is a concept ,which means deligating some responsibility from one class to another class.\n",
    "1.  We can do this by creating objects of one class into another class.\n",
    "2.  When there is no \"is a\" relationship between the two classes, we cannot establish inheritance thus we use the concept of composition where we just delegate a particular responsibility of one class to another class."
   ]
  },
  {
   "cell_type": "code",
   "execution_count": 6,
   "metadata": {},
   "outputs": [],
   "source": [
    "class salary():\n",
    "    def __init__(self,pay,bonus):\n",
    "        self.pay=pay\n",
    "        self.bonus=bonus\n",
    "    def annual_salary(self):\n",
    "        a=(self.pay*12)+(self.bonus)\n",
    "        return a"
   ]
  },
  {
   "cell_type": "code",
   "execution_count": 7,
   "metadata": {},
   "outputs": [],
   "source": [
    "class employee():\n",
    "    def __init__(self,name,age,pay,bonus):\n",
    "        self.name=name\n",
    "        self.age=age\n",
    "        self.obj_to_class_salary=salary(pay,bonus)\n",
    "    def total_salary(self):\n",
    "        print(\"The annual salary is\",self.obj_to_class_salary.annual_salary())\n",
    "        "
   ]
  },
  {
   "cell_type": "code",
   "execution_count": 8,
   "metadata": {},
   "outputs": [
    {
     "name": "stdout",
     "output_type": "stream",
     "text": [
      "The annual salary is 430000\n"
     ]
    }
   ],
   "source": [
    "e=employee(\"subham\",22,35000,10000)\n",
    "e.total_salary()"
   ]
  },
  {
   "cell_type": "markdown",
   "metadata": {},
   "source": [
    "####  __Aggregation__-\n",
    "__Aggregation__ is a weak form of composition. If we delete the comntainer object contents objects can live without the container objects in case of aggergation"
   ]
  },
  {
   "cell_type": "code",
   "execution_count": 2,
   "metadata": {},
   "outputs": [],
   "source": [
    "class Salary():\n",
    "    def __init__(self,pay,bonus):\n",
    "        self.pay=pay\n",
    "        self.bonus=bonus\n",
    "    def annual_salary(self):\n",
    "        return(self.pay*12)+self.bonus\n",
    "    "
   ]
  },
  {
   "cell_type": "code",
   "execution_count": 7,
   "metadata": {},
   "outputs": [],
   "source": [
    "class Employee():\n",
    "    def __init__(self,name,age ,salary): #That object(salary) is passed as a parameter in the __init__ method\n",
    "        self.name=name\n",
    "        self.age=age\n",
    "        self.obj=salary # that is assigned to an attribute named as 'obj'\n",
    "    def total(self):\n",
    "        return self.obj.annual_salary() #object obj is then usd to call the method from the Salary() class"
   ]
  },
  {
   "cell_type": "code",
   "execution_count": 9,
   "metadata": {},
   "outputs": [
    {
     "name": "stdout",
     "output_type": "stream",
     "text": [
      "The annual salary is  430000\n"
     ]
    }
   ],
   "source": [
    "salary=Salary(35000,10000) # an object of the salary class is created outside the Employee class\n",
    "emp=Employee(\"Subam\",25,salary)# the object of the salary class is passed as a parameter in the Object of the Emoployee class\n",
    "print(\"The annual salary is \" ,emp.total())"
   ]
  },
  {
   "cell_type": "markdown",
   "metadata": {},
   "source": [
    "### __Difference between Aggregation and Composition__\n",
    "###### __Aggregation__ -\n",
    "1. Defines a __has-a___ relationship.\n",
    "2. In case of aggregation, the object of the classes are individually independent\n",
    "3. In aggregation,the relationship is uni directional\n",
    "##### __Composition__- \n",
    "1. Definesa \"part-of\" relationship\n",
    "2. WHen we delete the object of the class where the other class' object was declared then both the objects dies.\n",
    "3. Here, both the objects or classes are inter-dependent on each other."
   ]
  },
  {
   "cell_type": "code",
   "execution_count": null,
   "metadata": {},
   "outputs": [],
   "source": []
  }
 ],
 "metadata": {
  "kernelspec": {
   "display_name": "Python 3",
   "language": "python",
   "name": "python3"
  },
  "language_info": {
   "codemirror_mode": {
    "name": "ipython",
    "version": 3
   },
   "file_extension": ".py",
   "mimetype": "text/x-python",
   "name": "python",
   "nbconvert_exporter": "python",
   "pygments_lexer": "ipython3",
   "version": "3.7.1"
  }
 },
 "nbformat": 4,
 "nbformat_minor": 2
}
