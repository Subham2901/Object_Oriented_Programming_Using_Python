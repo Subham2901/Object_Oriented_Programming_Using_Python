{
 "cells": [
  {
   "cell_type": "markdown",
   "metadata": {},
   "source": [
    "### Abstract class:-\n",
    "An abstract class can be considered as a blueprint for the other classes.it allows us to create a set of methods,that must be created within any child class build from the  abstract class.\n",
    " A class which contains one or more abstract methods is known as abstract class.An abstract method is a method that has declaration but doesn't have an implementation.\n",
    " #### In python we cannot create abstract method directly, we have to import a module named as ABC(Abstracct Base Class) from that module we need to import a decorator abstractmethod.\n"
   ]
  },
  {
   "cell_type": "code",
   "execution_count": 20,
   "metadata": {},
   "outputs": [],
   "source": [
    "from abc import ABC\n",
    "from abc import abstractmethod\n",
    "class Shape(ABC): # the abstract class\n",
    "    @abstractmethod\n",
    "    def area(self):\n",
    "        pass\n",
    "    "
   ]
  },
  {
   "cell_type": "code",
   "execution_count": 24,
   "metadata": {},
   "outputs": [],
   "source": [
    "class Circle(Shape):\n",
    "    def __init__(self):\n",
    "        self.__r=float(input(\"Insert the radius of the circle \"))\n",
    "    def area(self):\n",
    "        return self.__r**2*3.14"
   ]
  },
  {
   "cell_type": "code",
   "execution_count": 25,
   "metadata": {},
   "outputs": [
    {
     "name": "stdout",
     "output_type": "stream",
     "text": [
      "Insert the radius of the circle 2\n",
      "The area of the circle is :   12.56\n"
     ]
    }
   ],
   "source": [
    "c=Circle()\n",
    "print(\"The area of the circle is :  \",c.area())"
   ]
  },
  {
   "cell_type": "code",
   "execution_count": null,
   "metadata": {},
   "outputs": [],
   "source": []
  }
 ],
 "metadata": {
  "kernelspec": {
   "display_name": "Python 3",
   "language": "python",
   "name": "python3"
  },
  "language_info": {
   "codemirror_mode": {
    "name": "ipython",
    "version": 3
   },
   "file_extension": ".py",
   "mimetype": "text/x-python",
   "name": "python",
   "nbconvert_exporter": "python",
   "pygments_lexer": "ipython3",
   "version": "3.7.1"
  }
 },
 "nbformat": 4,
 "nbformat_minor": 2
}
